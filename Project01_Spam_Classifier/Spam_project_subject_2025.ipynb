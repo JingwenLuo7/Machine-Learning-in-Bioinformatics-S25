{
  "cells": [
    {
      "cell_type": "markdown",
      "metadata": {
        "id": "view-in-github",
        "colab_type": "text"
      },
      "source": [
        "<a href=\"https://colab.research.google.com/github/JingwenLuo7/Machine-Learning-in-Bioinformatics-S25/blob/main/Project01_Spam_Classifier/Spam_project_subject_2025.ipynb\" target=\"_parent\"><img src=\"https://colab.research.google.com/assets/colab-badge.svg\" alt=\"Open In Colab\"/></a>"
      ]
    },
    {
      "cell_type": "markdown",
      "metadata": {
        "id": "eDqQSNed50W1"
      },
      "source": [
        "# Spam or Ham (project 1)\n",
        "\n",
        "## 1- Introduction with the Bernoulli model\n",
        "\n",
        "\n",
        "We say that a random variables $X \\in \\{0, 1\\}$ follows a Bernoulli distribution of parameter $\\theta$ if $\\mathbb{P}(X = 1) = \\theta$ and $\\mathbb{P}(X = 0) = 1 − \\theta$.\n",
        "\n",
        "\n",
        "1.  Show that we can write the probability distribution of $X$ in a compact form as :\n",
        "$$\n",
        "\\mathbb{P}(X = x) = \\theta^{x} (1 − \\theta)^{1−x}\n",
        "$$\n",
        "\n",
        "2. Suppose now that we have a set of n independent variables $x_1,...,x_n$. If we note $n_1 = \\sum_{i=1}^n \\mathbb{1}_{\\{x_i=1\\}}$ and $n_0 = n − n_1$, show that :\n",
        "$$\n",
        "\\mathbb{P}(x_1,\\ldots,x_n \\mid \\theta)=\\theta^{n_1} (1−\\theta)^{n_0}\n",
        "$$\n",
        "\n",
        "3. Show that the maximum likelihood estimator is $\\hat{\\theta}_{ML} = \\frac{n_1}{n}$\n",
        "\n",
        "4. A conjugate prior for the Bernoulli distribution is the Beta distribution.\n",
        "$$\n",
        "Beta(\\theta \\mid a, b) \\propto \\theta^{a−1} (1 − \\theta)^{b−1}\n",
        "$$\n",
        "The Beta distribution has the following properties for its expectation and mode (for more details you can look in one of the books like the Bishop):\n",
        "$$\n",
        "\\mathbb{E}(\\theta) = \\frac{a}{a+b} \\text{, mode}(\\theta) = \\frac{a-1}{a+b-2}\n",
        "$$\n",
        "\n",
        "Show that with a $Beta(a,b)$ prior the posterior distribution\n",
        "$\\mathbb{P}(\\theta \\mid x_1,\\ldots, x_n)$\n",
        "is proportional to $\\theta^{n_1+a-1} \\cdot (1 − \\theta)^{n_0+b-1}$\n",
        "\n",
        "5. (Those two questions are optional, you can also simply use the result in the following)\n",
        "\n",
        "  a. Show that the maximum a posteriori _mode_ estimate is in the form $\\bar{\\theta}_{MAP} = \\frac{n_1+a-1}{n+a+b-2}$\n",
        "\n",
        "  b. Show that the maximum a posteriori\n",
        "_mean_ estimate is in the form $\\hat{\\theta}_{MAP} = \\mathbb{E}(\\theta \\mid x_1,\\ldots, x_n) =\n",
        "\\int_{\\theta =0}^1 \\mathbb{P}(\\theta \\mid x_1\\ldots x_n) d\\theta  = \\frac{n_1+a}{n+a+b}$\n"
      ]
    },
    {
      "cell_type": "markdown",
      "metadata": {
        "id": "1eXu6uYH50W3"
      },
      "source": [
        "## _write your answers to the questions here (you can also provide a scanned pdf of your answers with the notebook)_"
      ]
    },
    {
      "cell_type": "markdown",
      "metadata": {
        "id": "WBXrIehp50W4"
      },
      "source": [
        "## Spam classifier\n",
        "\n",
        "The goal of this small project is to use a Naive bayes classifier to build a spam filter. To build our filter, we will use a dataset of 5,572 SMS messages put together by Tiago A. Almeida and José María Gómez Hidalgo.\n",
        "The dataset and the article describing the dataset are in the whiteboard directory together with this notebook. Of note, the SMS messages have already been processed for ease of use: all punctuation marks have been removed and the text has been transformed into lowercase. It is also common practice to remove any stop words such as `a`, `as`, `the` and to perform stemming (reduce words to their base form, such as stripping  the final `s*` in plural words, or the `*ing` from verbs (e.g., running becomes run)). For the sake of simplicity, we did not do that in this exercise.\n",
        "\n",
        "We will use a bag of word model:\n",
        " - We construct a corpus of the possible words $\\mathcal{D} = \\{w_1, \\ldots , w_d\\}$.\n",
        " - Each document is described by a vector of binary values $(x^{(1)}, \\ldots , x^{(d)})$ where $x^{(i)} = 1$ if $w_i$ occurs in the document and $0$ otherwise.\n",
        "\n",
        "The classification task is to predict for an SMS message if it is a _spam_ or a _ham_ (e.g. non-spam).\n",
        "\n",
        "Our data is thus $\\mathbf{x} = (x^{(1)},\\ldots, x^{(d)})$, $x^{(i)} \\in \\{0,1\\}$ and $y \\in \\{s,h\\}$\n",
        "We hypothesise that the values $x^{(i)}$ are drawn according to a Bernoulli distribution whose parameter depends on the class:\n",
        "$$\n",
        "\\mathbb{P}(x^{(i)} \\mid y = s) = \\theta_{i,s}^{x^{(i)}} \\cdot (1-\\theta_{i,s})^{1-x^{(i)}}\n",
        "$$\n",
        "and\n",
        "$$\n",
        "\\mathbb{P}(x^{(i)} \\mid y = h) = \\theta_{i,h}^{x^{(i)}} \\cdot (1-\\theta_{i,h})^{1-x^{(i)}}\n",
        "$$\n",
        "As we will use a naive Bayes classifier, the occurences of the different words are independent from each other.\n",
        "\\begin{align}\n",
        "\\mathbb{P}(\\mathbf{x} \\mid y = s) & = \\prod_{i=1}^{d} \\mathbb{P} (x^{(i)} \\mid y = s)\\\\\n",
        "  & =  \\prod_{i=1}^{d} \\theta_{i,s}^{x^{(i)}} \\cdot (1-\\theta_{i,s})^{1-x^{(i)}}\n",
        "\\end{align}\n"
      ]
    },
    {
      "cell_type": "code",
      "source": [
        "from google.colab import drive\n",
        "drive.mount('/content/drive')"
      ],
      "metadata": {
        "colab": {
          "base_uri": "https://localhost:8080/"
        },
        "id": "4xaWPzXt88Is",
        "outputId": "7d4d48e0-f052-492f-e977-2b81060845ea"
      },
      "execution_count": 2,
      "outputs": [
        {
          "output_type": "stream",
          "name": "stdout",
          "text": [
            "Mounted at /content/drive\n"
          ]
        }
      ]
    },
    {
      "cell_type": "markdown",
      "metadata": {
        "id": "wMIOVAal50W5"
      },
      "source": [
        "## Importing library and loading dataset"
      ]
    },
    {
      "cell_type": "code",
      "execution_count": 4,
      "metadata": {
        "id": "WhwhdXlI50W7"
      },
      "outputs": [],
      "source": [
        "%matplotlib inline\n",
        "import numpy as np\n",
        "from collections import Counter\n",
        "from sklearn.metrics import accuracy_score, roc_curve, auc\n",
        "import matplotlib.pyplot as plt\n",
        "\n",
        "##Load the dataset (if in the same directory as the notebook)\n",
        "sms_data = np.loadtxt(\"/content/drive/MyDrive/ML/SMSSpamCollection_cleaned.csv\", delimiter=\"\\t\", skiprows=1, dtype=str)\n",
        "\n",
        "## create test data set for checkpointing\n",
        "checkpoint_data = np.array([['spam', 'dear researcher submit manuscript money'],\n",
        "          ['ham','dear friend meet beer'],\n",
        "          ['ham', 'dear friend meet you']], dtype=str)"
      ]
    },
    {
      "cell_type": "code",
      "execution_count": 5,
      "metadata": {
        "colab": {
          "base_uri": "https://localhost:8080/"
        },
        "id": "c3yrjmJC50W9",
        "outputId": "0fab3d39-e921-4270-9fea-6d82d9e5c5c1"
      },
      "outputs": [
        {
          "output_type": "execute_result",
          "data": {
            "text/plain": [
              "array([['ham',\n",
              "        'go until jurong point  crazy   available only in bugis n great world la e buffet    cine there got amore wat   '],\n",
              "       ['ham', 'ok lar    joking wif u oni   '],\n",
              "       ['spam',\n",
              "        'free entry in 2 a wkly comp to win fa cup final tkts 21st may 2005  text fa to 87121 to receive entry question std txt rate t c s apply 08452810075over18 s'],\n",
              "       ...,\n",
              "       ['ham',\n",
              "        'pity    was in mood for that  so   any other suggestions '],\n",
              "       ['ham',\n",
              "        'the guy did some bitching but i acted like i d be interested in buying something else next week and he gave it to us for free'],\n",
              "       ['ham', 'rofl  its true to its name']], dtype='<U910')"
            ]
          },
          "metadata": {},
          "execution_count": 5
        }
      ],
      "source": [
        "##Check the dataset\n",
        "sms_data"
      ]
    },
    {
      "cell_type": "code",
      "execution_count": 7,
      "metadata": {
        "colab": {
          "base_uri": "https://localhost:8080/"
        },
        "id": "GQI0ZHHo50W-",
        "outputId": "79c9dfa0-4511-4640-aab8-149762a3e78e"
      },
      "outputs": [
        {
          "output_type": "stream",
          "name": "stdout",
          "text": [
            "5572\n",
            "Third message is a: spam\n",
            "['free', 'entry', 'in', '2', 'a', 'wkly', 'comp', 'to', 'win', 'fa', 'cup', 'final', 'tkts', '21st', 'may', '2005', 'text', 'fa', 'to', '87121', 'to', 'receive', 'entry', 'question', 'std', 'txt', 'rate', 't', 'c', 's', 'apply', '08452810075over18', 's']\n"
          ]
        }
      ],
      "source": [
        "##Check the size of the dataset\n",
        "num_messages = sms_data.shape[0]\n",
        "print(num_messages)\n",
        "\n",
        "##third message is a...\n",
        "print(\"Third message is a:\", sms_data[2][0])\n",
        "##dividing the third message into words\n",
        "print(sms_data[2][1].split())"
      ]
    },
    {
      "cell_type": "markdown",
      "metadata": {
        "id": "V-yW4xIt50XA"
      },
      "source": [
        "## 2 - Construction of the Corpus\n",
        "\n",
        "Construct the corpus $\\mathcal{D}$ of all words in the dataset. The corpus will be represented as a hash table where each key is a unique word in the dataset and each value is the row index for that word.\n",
        " - How many unique words are there?\n",
        " - What are the 10 most common words (_e.g._ occuring in the most documents)?\n",
        " - Transform the set of messages in the form of a binary matrix of word occurrences.\n",
        "\n",
        " You can evaluate whether your implementation works using the checkpoint_data array. For this dataset the corpus could look as follows :\n",
        "\n",
        "`{'dear': 0, 'researcher': 1, 'submit': 2, 'manuscript': 3, 'money': 4, 'friend': 5, 'meet': 6, 'beer': 7, 'you': 8}`\n",
        "(of course you could have other index values for the words).\n",
        "\n",
        "The recoding of the checkpoint data will give you the following numpy array:\n",
        "\n",
        "```\n",
        "[[1. 1. 1. 1. 1. 0. 0. 0. 0.]\n",
        " [1. 0. 0. 0. 0. 1. 1. 1. 0.]\n",
        " [1. 0. 0. 0. 0. 1. 1. 0. 1.]]\n",
        "```"
      ]
    },
    {
      "cell_type": "code",
      "execution_count": 8,
      "metadata": {
        "id": "eR88JjYc50XA"
      },
      "outputs": [],
      "source": [
        "def construct_corpus(data):\n",
        "    \"\"\"\n",
        "    np.array[str, str] -> dict[str:int]\n",
        "\n",
        "    from a 2D array of str, return a hash table\n",
        "    \"\"\"\n",
        "    word_set = set()\n",
        "    for _, message in data:\n",
        "        words = message.split()\n",
        "        word_set.update(words)\n",
        "\n",
        "    corpus = {word: idx for idx, word in enumerate(sorted(word_set))}\n",
        "    return corpus\n"
      ]
    },
    {
      "cell_type": "code",
      "execution_count": 9,
      "metadata": {
        "id": "OHpDm-UK50XB"
      },
      "outputs": [],
      "source": [
        "def recode_messages(data, corpus):\n",
        "    \"\"\"\n",
        "    np.array[str, str] * dict[str:int] -> np.array[int, int]\n",
        "\n",
        "    returns the binary matrix encoding\n",
        "    \"\"\"\n",
        "    num_messages = data.shape[0]\n",
        "    vocab_size = len(corpus)\n",
        "    binary_matrix = np.zeros((num_messages, vocab_size))\n",
        "\n",
        "    for i, (_, message) in enumerate(data):\n",
        "        words = set(message.split())  # avoid duplicate word counts\n",
        "        for word in words:\n",
        "            if word in corpus:\n",
        "                idx = corpus[word]\n",
        "                binary_matrix[i, idx] = 1\n",
        "    return binary_matrix\n",
        "\n",
        "\n",
        "D = construct_corpus(sms_data)\n",
        "\n",
        "sms_matrix = recode_messages(sms_data, D)\n",
        ""
      ]
    },
    {
      "cell_type": "code",
      "source": [
        "\n",
        "##test\n",
        "\n",
        "checkpoint_data = np.array([\n",
        "    ['spam', 'dear researcher submit manuscript money'],\n",
        "    ['ham',  'dear friend meet beer'],\n",
        "    ['ham',  'dear friend meet you']\n",
        "], dtype=str)\n",
        "\n",
        "D_checkpoint = construct_corpus(checkpoint_data)\n",
        "matrix_checkpoint = recode_messages(checkpoint_data, D_checkpoint)\n",
        "\n",
        "print(\"Corpus:\", D_checkpoint)\n",
        "print(\"Binary Matrix:\\n\", matrix_checkpoint)\n",
        "\n",
        "\n",
        "\n",
        "## check dataset\n",
        "# 1. How many unique words are there?\n",
        "num_unique_words = len(D)\n",
        "print(\"1. Number of unique words:\", num_unique_words)\n",
        "\n",
        "# 2. What are the 10 most common words (e.g. occurring in the most documents)?\n",
        "word_counts = Counter()\n",
        "for message in sms_data[:, 1]:\n",
        "    word_counts.update(message.split())\n",
        "\n",
        "most_common_words = word_counts.most_common(10)\n",
        "print(\"2. 10 most common words:\", most_common_words)\n",
        "\n",
        "# 3. Transform the set of messages in the form of a binary matrix of word occurrences.\n",
        "print(\"3. Binary matrix shape:\", sms_matrix.shape)\n",
        "print(sms_matrix)"
      ],
      "metadata": {
        "colab": {
          "base_uri": "https://localhost:8080/"
        },
        "id": "eMpVeGhm-ESw",
        "outputId": "be0c4ce3-02e4-4a43-8a19-8218ec319029"
      },
      "execution_count": 11,
      "outputs": [
        {
          "output_type": "stream",
          "name": "stdout",
          "text": [
            "Corpus: {'beer': 0, 'dear': 1, 'friend': 2, 'manuscript': 3, 'meet': 4, 'money': 5, 'researcher': 6, 'submit': 7, 'you': 8}\n",
            "Binary Matrix:\n",
            " [[0. 1. 0. 1. 0. 1. 1. 1. 0.]\n",
            " [1. 1. 1. 0. 1. 0. 0. 0. 0.]\n",
            " [0. 1. 1. 0. 1. 0. 0. 0. 1.]]\n",
            "1. Number of unique words: 8753\n",
            "2. 10 most common words: [('i', 3021), ('to', 2253), ('you', 2245), ('a', 1450), ('the', 1339), ('u', 1207), ('and', 980), ('in', 903), ('is', 897), ('me', 807)]\n",
            "3. Binary matrix shape: (5572, 8753)\n",
            "[[0. 0. 0. ... 0. 0. 0.]\n",
            " [0. 0. 0. ... 0. 0. 0.]\n",
            " [0. 0. 0. ... 0. 0. 0.]\n",
            " ...\n",
            " [0. 0. 0. ... 0. 0. 0.]\n",
            " [0. 0. 0. ... 0. 0. 0.]\n",
            " [0. 0. 0. ... 0. 0. 0.]]\n"
          ]
        }
      ]
    },
    {
      "cell_type": "markdown",
      "metadata": {
        "id": "m9vNmtQS50XB"
      },
      "source": [
        "## 3 - Construct a training and a testing set and estimation of parameters\n",
        "\n",
        "\n",
        "To do the evaluation of the model afterward we will split the dataset randomly in two:\n",
        "- one dataset for training (80% of the messages)\n",
        "- one dataset for testing (20% of the messages).\n",
        "\n",
        "If you are familiar with it, you can use the `sklearn.model_selection` functions to construct the train and test datasets.\n"
      ]
    },
    {
      "cell_type": "code",
      "execution_count": 30,
      "metadata": {
        "id": "3yDAWy_F50XB"
      },
      "outputs": [],
      "source": [
        "def train_test_split(X, Y, train_percentage=0.8):\n",
        "    \"\"\"\n",
        "    Split X and Y into training and testing sets.\n",
        "\n",
        "    Args:\n",
        "        X: np.array, feature matrix (e.g., binary word matrix)\n",
        "        Y: np.array, labels (e.g., 'spam' or 'ham')\n",
        "        train_percentage: float, proportion of data to include in the training set\n",
        "\n",
        "    Returns:\n",
        "        X_train, X_test, Y_train, Y_test\n",
        "    \"\"\"\n",
        "    assert X.shape[0] == Y.shape[0]\n",
        "\n",
        "    number_examples = X.shape[0]\n",
        "    num_train = int(train_percentage * number_examples)\n",
        "\n",
        "    # Shuffle the indices\n",
        "    indices = np.arange(number_examples)\n",
        "    np.random.seed(42)\n",
        "    np.random.shuffle(indices)\n",
        "\n",
        "    # Split the data\n",
        "    train_indices = indices[:num_train]\n",
        "    test_indices = indices[num_train:]\n",
        "\n",
        "    X_train = X[train_indices]\n",
        "    Y_train = Y[train_indices]\n",
        "    X_test = X[test_indices]\n",
        "    Y_test = Y[test_indices]\n",
        "\n",
        "    return X_train, X_test, Y_train, Y_test\n",
        "\n",
        "# Split the data into training and testing sets\n",
        "labels = sms_data[:, 0]\n",
        "X_train, X_test, Y_train, Y_test = train_test_split(sms_matrix, labels)\n"
      ]
    },
    {
      "cell_type": "markdown",
      "metadata": {
        "id": "FGZeAuq050XB"
      },
      "source": [
        "## 4 - Estimation of the model parameters\n",
        "\n",
        "We will now estimate our model on the training set. This means estimating two types of parameters: the class prior, and the conditional word occurence probabilities.\n",
        "\n",
        "1.  Estimate the class prior $\\mathbb{P}(c) = \\mathbb{P}(y = c), (c = s, h)$\n",
        "2.  Using the results from section 1, compute the Maximum a posteriori estimator for the $d \\times 2$ matrix of parameters.\n",
        "$$\n",
        "\\Theta = \\left(\n",
        "\\begin{array}{cc}\n",
        "\\theta_{1,h}   & \\theta_{1,s} \\\\\n",
        "\\theta_{2,h} & \\theta_{2,s} \\\\\n",
        "\\vdots & \\vdots \\\\\n",
        "\\theta_{d,h} & \\theta_{d,s} \\\\\n",
        "\\end{array}\n",
        "\\right).\n",
        "$$ You can use as conjugate prior a Beta(1, 1) distribution for instance (then $\\theta_{i,c} = \\frac{n_{i,c}+1}{N+2}$ where $n_{i,c}$ is the number of documents from the class $c$ where the word $w_i$ is present and $N$ is the total number of documents).\n",
        "\n",
        "When applied to the checkpoint data, your $\\Theta$ matrix should look like this:\n",
        "\n",
        "```\n",
        "# h    s\n",
        "[[0.75 0.66666667]  #'dear'\n",
        " [0.25 0.66666667]  #'researcher'\n",
        " [0.25 0.66666667]  #'submit'\n",
        " [0.25 0.66666667]  #'manuscript'\n",
        " [0.25 0.66666667]  #'money'\n",
        " [0.75 0.33333333]  #'friend'\n",
        " [0.75 0.33333333]  #'meet'\n",
        " [0.5  0.33333333]  #'beer'\n",
        " [0.5  0.33333333]] #'you'\n",
        "```\n",
        "\n",
        "3. Represent the fitted class conditional densities $(\\theta_{i,h})_{i \\in \\mathcal{D}}$ and $(\\theta_{i,s})_{i \\in \\mathcal{D}}$ like on the corresponding slide of the course.\n"
      ]
    },
    {
      "cell_type": "code",
      "execution_count": 31,
      "metadata": {
        "id": "vamPUjcu50XC"
      },
      "outputs": [],
      "source": [
        "## Your code here for class priors\n",
        "def estimate_class_priors(labels):\n",
        "    \"\"\"\n",
        "    Estimate class prior probabilities.\n",
        "\n",
        "    \"\"\"\n",
        "    counts = Counter(labels)\n",
        "    total = len(labels)\n",
        "    priors = {label: counts[label] / total for label in counts}\n",
        "    return priors\n",
        "\n",
        "\n",
        "\n",
        "def estimate_proportions(data_matrix, labels):\n",
        "    \"\"\"\n",
        "    estimate the matrix theta\n",
        "\n",
        "    \"\"\"\n",
        "    d = data_matrix.shape[1]\n",
        "    theta = np.zeros((d, 2))\n",
        "\n",
        "    for class_index, class_label in enumerate(['ham', 'spam']):\n",
        "        # Get rows corresponding to this class\n",
        "        class_rows = data_matrix[labels == class_label]\n",
        "\n",
        "        # Number of documents for this class\n",
        "        N_c = class_rows.shape[0]\n",
        "\n",
        "        # Count how many documents in class c contain each word\n",
        "        n_ic = class_rows.sum(axis=0)\n",
        "\n",
        "        # Apply Beta(1,1) smoothing\n",
        "        theta[:, class_index] = (n_ic + 1) / (N_c + 2)\n",
        "\n",
        "    return theta\n",
        "\n",
        "\n",
        "##\n",
        "Dico = {'dear': 0, 'researcher':1, 'money': 2, 'friend': 3 }\n",
        "#sentence 1 dear friend money\n",
        "#sentence 2 dear researcher friend\n",
        "#sentence  friend money money\n",
        "datam = np.array([[1, 0, 1, 1],[1, 1, 0, 1 ],[0, 0, 1, 1]], dtype = int)"
      ]
    },
    {
      "cell_type": "markdown",
      "metadata": {
        "id": "fd4L4pKC50XC"
      },
      "source": [
        "## 4 - Message classification\n",
        "\n",
        "\n",
        "3. Classify the messages in the test set using the Maximum a posteriori rule, and evaluate the performance of the model by computing the True Positive Rate (also called Sensitivity) and the False Positive Rate (the same as 1-Specificity).\n",
        "\n",
        "4. The performance of the model above was obtained by using a classification threshold of $0.5$ on the posterior probability. In other words, if $\\mathbb{P}(y = s \\mid \\mathbb{x}) \\ge 0.5$ then the message is classified as spam. Draw a ROC curve for your classifier. Note that you have to consider multiple values of the threshold to draw the ROC curve.\n",
        "\n",
        "5. Why did we use the Maximum a posteriori estimator rather than the maximum likelihood one?\n",
        "\n",
        "\n"
      ]
    },
    {
      "cell_type": "code",
      "source": [
        "## Prediction and Evaluation\n",
        "def predict_log_proba(X, theta, priors):\n",
        "    \"\"\"\n",
        "    Compute the log posterior probabilities for each class.\n",
        "\n",
        "    \"\"\"\n",
        "    log_theta = np.log(theta)\n",
        "    log_one_minus_theta = np.log(1 - theta)\n",
        "\n",
        "    log_priors = {\n",
        "        'ham': np.log(priors['ham']),\n",
        "        'spam': np.log(priors['spam'])\n",
        "    }\n",
        "\n",
        "    log_posteriors = []\n",
        "    for x in X:\n",
        "        log_likelihood_ham = x @ log_theta[:, 0] + (1 - x) @ log_one_minus_theta[:, 0]\n",
        "        log_likelihood_spam = x @ log_theta[:, 1] + (1 - x) @ log_one_minus_theta[:, 1]\n",
        "        log_posteriors.append([log_likelihood_ham + log_priors['ham'],\n",
        "                               log_likelihood_spam + log_priors['spam']])\n",
        "\n",
        "    return np.array(log_posteriors)\n",
        "\n",
        "## From Log-Posterior to Probability & Prediction\n",
        "def classify(log_posteriors, threshold=0.5):\n",
        "    \"\"\"\n",
        "    Classify based on log-posteriors and threshold.\n",
        "\n",
        "    \"\"\"\n",
        "    log_probs = log_posteriors\n",
        "    probs = np.exp(log_probs - log_probs.max(axis=1, keepdims=True))  # softmax trick\n",
        "    probs = probs / probs.sum(axis=1, keepdims=True)\n",
        "    spam_probs = probs[:, 1]\n",
        "    return np.where(spam_probs >= threshold, 'spam', 'ham'), spam_probs\n",
        "\n",
        "\n",
        "## Evaluate Performance (TPR, FPR) and ROC\n",
        "from sklearn.metrics import confusion_matrix, roc_curve, auc\n",
        "import matplotlib.pyplot as plt\n",
        "\n",
        "def evaluate_performance(y_true, y_pred):\n",
        "    cm = confusion_matrix(y_true, y_pred, labels=['ham', 'spam'])\n",
        "    TN, FP, FN, TP = cm.ravel()\n",
        "    TPR = TP / (TP + FN)\n",
        "    FPR = FP / (FP + TN)\n",
        "    return TPR, FPR\n",
        "\n",
        "def draw_roc(y_true, probas):\n",
        "    y_bin = np.where(y_true == 'spam', 1, 0)\n",
        "    fpr, tpr, thresholds = roc_curve(y_bin, probas)\n",
        "    roc_auc = auc(fpr, tpr)\n",
        "\n",
        "    plt.figure(figsize=(6, 6))\n",
        "    plt.plot(fpr, tpr, label=f\"AUC = {roc_auc:.2f}\")\n",
        "    plt.plot([0, 1], [0, 1], 'k--', label=\"Random\")\n",
        "    plt.xlabel(\"False Positive Rate\")\n",
        "    plt.ylabel(\"True Positive Rate\")\n",
        "    plt.title(\"ROC Curve\")\n",
        "    plt.legend()\n",
        "    plt.grid(True)\n",
        "    plt.show()\n",
        "\n"
      ],
      "metadata": {
        "id": "msN8L7FoAhdk"
      },
      "execution_count": 32,
      "outputs": []
    },
    {
      "cell_type": "code",
      "source": [
        "# Estimate class priors and proportions from the training data\n",
        "priors = estimate_class_priors(Y_train)\n",
        "theta = estimate_proportions(X_train, Y_train)\n",
        "\n",
        "log_post = predict_log_proba(X_test, theta, priors)  # Now X_test is defined\n",
        "predictions, spam_probs = classify(log_post, threshold=0.5)\n",
        "TPR, FPR = evaluate_performance(Y_test, predictions)\n",
        "\n",
        "print(\"True Positive Rate:\", TPR)\n",
        "print(\"False Positive Rate:\", FPR)\n",
        "\n",
        "draw_roc(Y_test, spam_probs)"
      ],
      "metadata": {
        "colab": {
          "base_uri": "https://localhost:8080/",
          "height": 599
        },
        "id": "hCPrdNiIBD6Y",
        "outputId": "a77d2ccc-a651-453d-9f36-19c14e058957"
      },
      "execution_count": 33,
      "outputs": [
        {
          "output_type": "stream",
          "name": "stdout",
          "text": [
            "True Positive Rate: 0.8441558441558441\n",
            "False Positive Rate: 0.001040582726326743\n"
          ]
        },
        {
          "output_type": "display_data",
          "data": {
            "text/plain": [
              "<Figure size 600x600 with 1 Axes>"
            ],
            "image/png": "[encoded data removed]"
          },
          "metadata": {}
        }
      ]
    },
    {
      "cell_type": "markdown",
      "source": [
        "### 4.5 Why did we use the Maximum a posteriori estimator rather than the maximum likelihood one?\n",
        "\n",
        "MAP is preferred because it avoids assigning zero probability to unseen events, improves generalization, and adds a principled form of smoothing via prior beliefs."
      ],
      "metadata": {
        "id": "9Tn6_YxWBjf4"
      }
    },
    {
      "cell_type": "markdown",
      "metadata": {
        "id": "gumjPfEZ50XC"
      },
      "source": [
        "## 5 - Extension of the model\n",
        "\n",
        "One extension of the model is to consider a matrix of word counts instead of simply their presence/absence.\n",
        "The model will change in various ways in this case:\n",
        "   - We will count the total number of occurence in the spam or the ham set for each word.\n",
        "   - the words are now considered to occur independently along the sentence (independent Multinoulli). Thus, for a document with k words $\\mathbf{v}=(v_1,\\ldots, v_k)$\n",
        "    \\begin{align}\n",
        "    \\mathbb{P}(\\mathbf{v} \\mid y = s)\n",
        "  & =  \\prod_{t=1}^{k} p_{v_t}\n",
        "    \\end{align}\n",
        "       where $p_v$ is the probability to observe a word $v$\n",
        "       \n",
        "Note that with this new model we compute a product over the positions in the sentence while the bernoulli model did a product over all the words in the corpus.\n",
        "\n",
        "1. Implement the estimation of parameters for this model and the computation of the posterior class probabilities. This question can be interpreted in different ways, please explain your choices.\n",
        "2. Compare its accuracy and ROC curve with the previous model on a test set (*e.g.* go over section 3 and 4 again for this model).\n",
        "\n"
      ]
    },
    {
      "cell_type": "markdown",
      "source": [
        "5.1"
      ],
      "metadata": {
        "id": "dO0cMPUvCC0k"
      }
    },
    {
      "cell_type": "code",
      "source": [
        "## Multinomial NB Parameter Estimation\n",
        "def estimate_multinomial_params(X, Y, alpha=1.0):\n",
        "    \"\"\"\n",
        "    Estimate word probabilities for Multinomial NB\n",
        "\n",
        "    \"\"\"\n",
        "    vocab_size = X.shape[1]\n",
        "    spam_idx = np.where(Y == 'spam')[0]\n",
        "    ham_idx = np.where(Y == 'ham')[0]\n",
        "\n",
        "    # Total counts for each word in spam/ham\n",
        "    spam_word_counts = X[spam_idx].sum(axis=0)\n",
        "    ham_word_counts = X[ham_idx].sum(axis=0)\n",
        "\n",
        "    # Total word counts in all spam/ham messages\n",
        "    spam_total = spam_word_counts.sum()\n",
        "    ham_total = ham_word_counts.sum()\n",
        "\n",
        "    # Laplace-smoothed probabilities\n",
        "    theta_spam = (spam_word_counts + alpha) / (spam_total + alpha * vocab_size)\n",
        "    theta_ham = (ham_word_counts + alpha) / (ham_total + alpha * vocab_size)\n",
        "\n",
        "    theta_mult = np.stack([theta_ham, theta_spam], axis=1)\n",
        "\n",
        "    priors = {\n",
        "        'ham': len(ham_idx) / len(Y),\n",
        "        'spam': len(spam_idx) / len(Y)\n",
        "    }\n",
        "\n",
        "    return theta_mult, priors\n",
        "\n",
        "## Compute Posterior with Multinomial Model\n",
        "def predict_multinomial_log_proba(X, theta_mult, priors):\n",
        "    \"\"\"\n",
        "    Compute log posterior using Multinomial NB\n",
        "\n",
        "    \"\"\"\n",
        "    log_theta = np.log(theta_mult)\n",
        "    log_priors = {\n",
        "        'ham': np.log(priors['ham']),\n",
        "        'spam': np.log(priors['spam'])\n",
        "    }\n",
        "\n",
        "    log_posts = []\n",
        "    for x in X:\n",
        "        log_lh_ham = x @ log_theta[:, 0]\n",
        "        log_lh_spam = x @ log_theta[:, 1]\n",
        "        log_posts.append([log_lh_ham + log_priors['ham'],\n",
        "                          log_lh_spam + log_priors['spam']])\n",
        "\n",
        "    return np.array(log_posts)\n",
        "\n"
      ],
      "metadata": {
        "id": "WMmDoKbRB8Gh"
      },
      "execution_count": 34,
      "outputs": []
    },
    {
      "cell_type": "code",
      "source": [
        "## Evaluation & ROC Curve\n",
        "\n",
        "# Call estimate_multinomial_params to get theta_mult and update priors\n",
        "theta_mult, priors = estimate_multinomial_params(X_train, Y_train)\n",
        "\n",
        "log_posts = predict_multinomial_log_proba(X_test, theta_mult, priors)\n",
        "preds, probs_spam = classify(log_posts, threshold=0.5)\n",
        "\n",
        "TPR, FPR = evaluate_performance(Y_test, preds)\n",
        "\n",
        "print(\"True Positive Rate:\", TPR)\n",
        "print(\"False Positive Rate:\", FPR)\n",
        "\n",
        "draw_roc(Y_test, probs_spam)"
      ],
      "metadata": {
        "colab": {
          "base_uri": "https://localhost:8080/",
          "height": 599
        },
        "id": "Jl-5qSvwCN0u",
        "outputId": "2c4b97db-e9b9-45ee-8ab1-c60370c0113a"
      },
      "execution_count": 35,
      "outputs": [
        {
          "output_type": "stream",
          "name": "stdout",
          "text": [
            "True Positive Rate: 0.922077922077922\n",
            "False Positive Rate: 0.01040582726326743\n"
          ]
        },
        {
          "output_type": "display_data",
          "data": {
            "text/plain": [
              "<Figure size 600x600 with 1 Axes>"
            ],
            "image/png": "[encoded data removed]"
          },
          "metadata": {}
        }
      ]
    },
    {
      "cell_type": "markdown",
      "source": [
        "### 5.2"
      ],
      "metadata": {
        "id": "3aDxO2NwCxwV"
      }
    },
    {
      "cell_type": "code",
      "source": [
        "def evaluate_model(y_true, y_scores, y_pred, model_name=''):\n",
        "    \"\"\"\n",
        "    Evaluates a model's performance using accuracy and AUC.\n",
        "    Plots the ROC curve for the model.\n",
        "\n",
        "    \"\"\"\n",
        "    acc = accuracy_score(y_true, y_pred)\n",
        "    fpr, tpr, _ = roc_curve([1 if y == 'spam' else 0 for y in y_true], y_scores)\n",
        "    roc_auc = auc(fpr, tpr)\n",
        "\n",
        "    print(f\"{model_name} Accuracy: {acc:.4f}, AUC: {roc_auc:.4f}\")\n",
        "\n",
        "    plt.plot(fpr, tpr, label=f'{model_name} (AUC = {roc_auc:.2f})')\n",
        "    return acc, roc_auc\n",
        "\n",
        "# Get predictions and probabilities for both models\n",
        "\n",
        "log_post_bernoulli = predict_log_proba(X_test, theta, priors)\n",
        "bernoulli_preds, bernoulli_probs = classify(log_post_bernoulli, threshold=0.5)\n",
        "\n",
        "log_post_multinomial = predict_multinomial_log_proba(X_test, theta_mult, priors)\n",
        "multinomial_preds, multinomial_probs = classify(log_post_multinomial, threshold=0.5)\n",
        "\n",
        "# Plot ROC curves and calculate AUC\n",
        "plt.figure(figsize=(8,6))\n",
        "plt.plot([0,1], [0,1], 'k--', label='Random')\n",
        "evaluate_model(Y_test, bernoulli_probs, bernoulli_preds, \"Bernoulli NB\")\n",
        "evaluate_model(Y_test, multinomial_probs, multinomial_preds, \"Multinomial NB\")\n",
        "plt.xlabel('False Positive Rate')\n",
        "plt.ylabel('True Positive Rate')\n",
        "plt.title('ROC Curves for Bernoulli vs Multinomial Naive Bayes')\n",
        "plt.legend()\n",
        "plt.grid(True)\n",
        "plt.show()"
      ],
      "metadata": {
        "colab": {
          "base_uri": "https://localhost:8080/",
          "height": 599
        },
        "id": "VOOMsdIIC03U",
        "outputId": "09a10178-0a65-474b-cdd2-ec5bf9232250"
      },
      "execution_count": 38,
      "outputs": [
        {
          "output_type": "stream",
          "name": "stdout",
          "text": [
            "Bernoulli NB Accuracy: 0.9776, AUC: 0.9928\n",
            "Multinomial NB Accuracy: 0.9803, AUC: 0.9797\n"
          ]
        },
        {
          "output_type": "display_data",
          "data": {
            "text/plain": [
              "<Figure size 800x600 with 1 Axes>"
            ],
            "image/png": "[encoded data removed]"
          },
          "metadata": {}
        }
      ]
    }
  ],
  "metadata": {
    "kernelspec": {
      "display_name": "Python 3",
      "language": "python",
      "name": "python3"
    },
    "language_info": {
      "codemirror_mode": {
        "name": "ipython",
        "version": 3
      },
      "file_extension": ".py",
      "mimetype": "text/x-python",
      "name": "python",
      "nbconvert_exporter": "python",
      "pygments_lexer": "ipython3",
      "version": "3.7.3"
    },
    "vscode": {
      "interpreter": {
        "hash": "aee8b7b246df8f9039afb4144a1f6fd8d2ca17a180786b69acc140d282b71a49"
      }
    },
    "colab": {
      "provenance": [],
      "include_colab_link": true
    }
  },
  "nbformat": 4,
  "nbformat_minor": 0
}